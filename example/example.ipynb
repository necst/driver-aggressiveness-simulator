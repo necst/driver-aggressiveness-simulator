{
 "cells": [
  {
   "cell_type": "code",
   "execution_count": null,
   "metadata": {},
   "outputs": [],
   "source": [
    "import dasimulator as das\n",
    "import carla\n",
    "import asyncio\n",
    "import numpy as np\n",
    "import pandas as pd\n",
    "import scipy.fft as fft\n",
    "import matplotlib.pyplot as plt"
   ]
  },
  {
   "attachments": {},
   "cell_type": "markdown",
   "metadata": {},
   "source": [
    "## Connect to carla server"
   ]
  },
  {
   "cell_type": "code",
   "execution_count": null,
   "metadata": {},
   "outputs": [],
   "source": [
    "# Carla's world parameters\n",
    "dt = 0.005\n",
    "sync = True\n",
    "render = False\n",
    "carla_port = 2000\n",
    "carla_town = 'Town04'\n",
    "\n",
    "# Vehicle used for the simulation\n",
    "vehicle_model = 'vehicle.tesla.model3'"
   ]
  },
  {
   "cell_type": "code",
   "execution_count": null,
   "metadata": {},
   "outputs": [],
   "source": [
    "# Connect the client and set up bp library and spawn points\n",
    "client = carla.Client('localhost', carla_port) \n",
    "client.set_timeout(12.0) \n",
    "\n",
    "world = client.get_world()\n",
    "# Apply recommended settings\n",
    "settings = world.get_settings()\n",
    "settings.no_rendering_mode = not render\n",
    "settings.fixed_delta_seconds = dt\n",
    "settings.synchronous_mode = sync\n",
    "world.apply_settings(settings)\n",
    "world = client.load_world(carla_town, reset_settings=False)"
   ]
  },
  {
   "attachments": {},
   "cell_type": "markdown",
   "metadata": {},
   "source": [
    "#### Load FTP-75 cycle speed profile"
   ]
  },
  {
   "cell_type": "code",
   "execution_count": null,
   "metadata": {},
   "outputs": [],
   "source": [
    "df = pd.read_csv('FTP-75-cycle/FTP-75.csv')\n",
    "df.drop(index=0, inplace=True, axis=0)\n",
    "df = df.dropna(axis='index')\n",
    "df['Phase'] = df['Phase'].astype(int)\n",
    "df = df[(df['Phase'] == 1) | (df['Phase'] == 2)]\n",
    "df.drop('Phase', inplace=True, axis=1)\n",
    "\n",
    "ftp_v = np.array(df['Set Spd'], dtype=float)\n",
    "ftp_t = np.array(df['Time'], dtype=float)\n",
    "# converting from mph to km/h\n",
    "ftp_v = 1.60934 * ftp_v\n",
    "\n",
    "ftp_duration = ftp_t[-1]"
   ]
  },
  {
   "attachments": {},
   "cell_type": "markdown",
   "metadata": {},
   "source": [
    "#### Spawn the vehicle "
   ]
  },
  {
   "cell_type": "code",
   "execution_count": null,
   "metadata": {},
   "outputs": [],
   "source": [
    "bp_lib = world.get_blueprint_library() \n",
    "spawn_points = world.get_map().get_spawn_points() \n",
    "vehicle = world.try_spawn_actor(bp_lib.find(vehicle_model), spawn_points[134])"
   ]
  },
  {
   "attachments": {},
   "cell_type": "markdown",
   "metadata": {},
   "source": [
    "##### Define a trajectory"
   ]
  },
  {
   "cell_type": "code",
   "execution_count": null,
   "metadata": {},
   "outputs": [],
   "source": [
    "# Define the route as a list of spawn points, then convert it to a list of carla waypoints\n",
    "route_ids = [75,100,92,272,134,138,130,296,222,212,139,352,336]\n",
    "waypoints = [spawn_points[idx] for idx in route_ids]\n",
    "\n",
    "# Draw the spawn points locations that are part of the route (useful only if rednder=True for visualizing the route) \n",
    "for idx in route_ids:\n",
    "    world.debug.draw_string(spawn_points[idx].location, str(idx), life_time=15, color=carla.Color(255,0,0))"
   ]
  },
  {
   "attachments": {},
   "cell_type": "markdown",
   "metadata": {},
   "source": [
    "## Define the Driver Aggressiveness Simulator object"
   ]
  },
  {
   "cell_type": "code",
   "execution_count": null,
   "metadata": {},
   "outputs": [],
   "source": [
    "filename = 'data_collected.csv'\n",
    "gen = das.DASimulator(world, vehicle, waypoints, target_aggIn=80, opt_dict={'ignore_stop_signs' : True, 'ignore_traffic_lights' : True})"
   ]
  },
  {
   "attachments": {},
   "cell_type": "markdown",
   "metadata": {},
   "source": [
    "### Start the simulation"
   ]
  },
  {
   "cell_type": "code",
   "execution_count": null,
   "metadata": {},
   "outputs": [],
   "source": [
    "await gen.sim(max_duration=ftp_duration, filename=filename, speed_profile=ftp_v, stop_at_end_pos=False)"
   ]
  },
  {
   "attachments": {},
   "cell_type": "markdown",
   "metadata": {},
   "source": [
    "## Visualize the data collected"
   ]
  },
  {
   "cell_type": "code",
   "execution_count": null,
   "metadata": {},
   "outputs": [],
   "source": [
    "signals_df = pd.read_csv(filename, sep=',', header=0)\n",
    "x_t = np.array(signals_df['Time'], dtype=float)\n",
    "y_rv = np.array(signals_df['Velocity'], dtype=float)\n",
    "y_tv = np.array(signals_df['Target Velocity'], dtype=float)\n",
    "y_tp = np.array(signals_df['Throttle'], dtype=float)\n",
    "y_bp = np.array(signals_df['Brake'], dtype=float)\n",
    "acc_x = np.array(signals_df['AccX'], dtype=float)\n",
    "acc_y = np.array(signals_df['AccY'], dtype=float)\n",
    "acc_z = np.array(signals_df['AccZ'], dtype=float)\n",
    "gyro_x = np.array(signals_df['GyroX'], dtype=float)\n",
    "gyro_y = np.array(signals_df['GyroY'], dtype=float)\n",
    "gyro_z = np.array(signals_df['GyroZ'], dtype=float)"
   ]
  },
  {
   "cell_type": "code",
   "execution_count": null,
   "metadata": {},
   "outputs": [],
   "source": [
    "# Limit parameters for plotting\n",
    "x_a = 0         # default\n",
    "x_b = x_t[-1]   # default\n",
    "\n",
    "plt.figure(figsize=(30,6))\n",
    "plt.title(\"Real speed vs Target speed\")\n",
    "plt.ylabel(\"Speed [km/h]\")\n",
    "plt.xlabel(\"Time [s]\")\n",
    "plt.xlim(x_a, x_b)\n",
    "plt.plot(x_t, y_tv, label='Target Vehicle Speed')\n",
    "plt.plot(x_t, y_rv, label='Real Vehicle Speed')\n",
    "plt.legend(loc=\"lower right\")\n",
    "plt.show()\n",
    "\n",
    "plt.figure(figsize=(30,6))\n",
    "plt.title(\"Throttle/Brake\")\n",
    "plt.ylabel(\"[%]\")\n",
    "plt.xlabel(\"Time [s]\")\n",
    "plt.xlim(x_a, x_b)\n",
    "plt.plot(x_t, 100 * y_tp, label='Throttle', color='green')\n",
    "plt.plot(x_t, -100 * y_bp, label='Brake', color='orange')\n",
    "plt.legend(loc=\"lower right\")\n",
    "plt.show()\n",
    "\n",
    "plt.figure(figsize=(30,6))\n",
    "plt.title(\"Subsampled IMU Acceleration (40 Hz)\")\n",
    "plt.ylabel(\"Acceleration [m/s^2]\")\n",
    "plt.xlabel(\"Time [s]\")\n",
    "plt.xlim(x_a, x_b)\n",
    "plt.plot(x_t[::5], acc_y[::5], label='AccY', color='orange')\n",
    "plt.plot(x_t[::5], acc_x[::5], label='AccX', color='green')\n",
    "plt.legend(loc=\"lower right\")\n",
    "plt.show()"
   ]
  },
  {
   "attachments": {},
   "cell_type": "markdown",
   "metadata": {},
   "source": [
    "## Calculate the actual Aggressiveness Index"
   ]
  },
  {
   "attachments": {},
   "cell_type": "markdown",
   "metadata": {},
   "source": [
    "Recalling that the index defined in the reference paper is the following:\n",
    "$\\Large{AggIn=\\frac{avg(ESD(TP(t)))}{std(v_{desired}(t)-v_{real}(t))}}$\n",
    "\n",
    "Where the Energy Spectral Density for descrete signal is given by $\\large{\\bar{S}_{x x}(f)=\\lim _{N \\rightarrow \\infty}(\\Delta t)^2\\left|\\sum_{n=-N}^N x_n e^{-i 2 \\pi f n \\Delta t}\\right|^2}$"
   ]
  },
  {
   "cell_type": "code",
   "execution_count": null,
   "metadata": {},
   "outputs": [],
   "source": [
    "# Define the function for computing the Energy Spectral Density of a signal\n",
    "\n",
    "def esd(yt, fs):\n",
    "    \"\"\"Computes the Energy Spectral Density of a signal yt, keeping only positive frequencies (note that this means that the total energy is halved). \n",
    "    \n",
    "    Parameters\n",
    "    ----------\n",
    "        yt : array_like \n",
    "            Signal to be analyzed\n",
    "        fs : float \n",
    "            Sampling frequency of the signal\n",
    "\n",
    "    Returns\n",
    "    -------\n",
    "        out : array_like, array_like\n",
    "            Frequency axis and Energy Spectral Density of the signal\n",
    "    \"\"\"\n",
    "    N = len(yt)\n",
    "    f = fft.rfftfreq(N, 1/fs)\n",
    "    Sxx = np.square(1 / fs) *  np.square(np.abs(fft.rfft(yt)))\n",
    "    \n",
    "    return f, Sxx"
   ]
  },
  {
   "cell_type": "code",
   "execution_count": null,
   "metadata": {},
   "outputs": [],
   "source": [
    "fs_FTP = 10 # Hz (sampling frequency of the FTP-75 cycle)\n",
    "k_subsample = int(1 / (dt * fs_FTP)) # subsampling factor for the collected data (to match fs_FTP)\n",
    "\n",
    "f, Sxx = esd(y_tp[::k_subsample], fs_FTP)\n",
    "print(\"Mean ESD: \", np.mean(Sxx))\n",
    "print(\"Std of tracking error: \", np.std(y_tv - y_rv))\n",
    "print( \"Aggressiveness Index: \", np.mean(Sxx) / np.std(y_tv - y_rv))"
   ]
  },
  {
   "cell_type": "code",
   "execution_count": null,
   "metadata": {},
   "outputs": [],
   "source": []
  }
 ],
 "metadata": {
  "kernelspec": {
   "display_name": "Python 3",
   "language": "python",
   "name": "python3"
  },
  "language_info": {
   "codemirror_mode": {
    "name": "ipython",
    "version": 3
   },
   "file_extension": ".py",
   "mimetype": "text/x-python",
   "name": "python",
   "nbconvert_exporter": "python",
   "pygments_lexer": "ipython3",
   "version": "3.8.10"
  },
  "orig_nbformat": 4
 },
 "nbformat": 4,
 "nbformat_minor": 2
}
